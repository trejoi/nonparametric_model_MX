{
 "cells": [
  {
   "cell_type": "markdown",
   "metadata": {},
   "source": [
    "# SEIR Generalize model with rho as a polynomial spline\n",
    "#Author: Imelda Trejo \n",
    "#February 13, 2022\n",
    "\n",
    "MCMC: YT"
   ]
  },
  {
   "cell_type": "code",
   "execution_count": 208,
   "metadata": {},
   "outputs": [],
   "source": [
    "# Import relevant modules\n",
    "import numpy as np\n",
    "import pandas as pd\n",
    "import random\n",
    "from scipy.stats import nbinom, expon\n",
    "from scipy.special import factorial\n",
    "from scipy.special import loggamma\n",
    "from scipy.interpolate import BSpline\n",
    "import matplotlib.pyplot as plt\n",
    "from copy import copy\n",
    "from matplotlib import cm\n",
    "import time"
   ]
  },
  {
   "cell_type": "code",
   "execution_count": 209,
   "metadata": {},
   "outputs": [],
   "source": [
    "#---------Polynomial spline\n",
    "def Pspline(t,vk,c,k,q0):\n",
    "    n = len(vk) - k\n",
    "    assert (n >= k+1) and (len(c) >= n)\n",
    "    return sum(c[i] * BaseSpline(t, k, i, vk,q0) for i in range(n))   \n",
    "#---------mixing-monotonic-and-standar-Base\n",
    "def BaseSpline(t,k,i,T,q0): #k0,,t0=6--->90\n",
    "    n = len(t)\n",
    "    b=np.zeros(n) ##base function of degree k-1\n",
    "    if i<=q0:\n",
    "        aux=BSpline.basis_element(T[i+1:i+k+1],extrapolate=False) #degree k-2\n",
    "        a=aux.integrate(T[i+1],T[i+k+1])\n",
    "        for j in range(0,tp):                                 #M-spline degree k-1\n",
    "            b[j]=1-aux.integrate(T[1],t[j])/a\n",
    "    else:\n",
    "        b= BSpline.basis_element(vk[i:i+k+1],extrapolate=False)(t) #degree k-1\n",
    "    return np.nan_to_num(b)"
   ]
  },
  {
   "cell_type": "code",
   "execution_count": 210,
   "metadata": {},
   "outputs": [
    {
     "name": "stdout",
     "output_type": "stream",
     "text": [
      "observation days 754\n"
     ]
    }
   ],
   "source": [
    "##------------------------Read data------------\n",
    "#Yaux=np.load(\"New MexicoY.npy\")  #Incidence data\n",
    "#Yaux=np.load(\"TexasY.npy\")  #Incidence data\n",
    "Yaux=np.load(\"CaliforniaY.npy\")  #Incidence data\n",
    "\n",
    "#Yaux=np.load(\"LinY.npy\") \n",
    "\n",
    "n=np.size(Yaux)\n",
    "print('observation days',n)\n",
    "#----------------------Average data per 7 days-------------\n",
    "Y=np.zeros(n) \n",
    "for k in range(3,n):\n",
    "    Y[k]=np.mean(Yaux[k-3:k+4]) \n",
    "Y[0]=np.mean(Yaux[0:7])\n",
    "Y[1],Y[2]=Y[0],Y[0]\n",
    "#-----------------------Define the partition for the epidecmis time observed [0, T]  \n",
    "T,h,m=n,0.1,10\n",
    "tp=int(T/h)+1            #total points\n",
    "t=np.zeros(tp)\n",
    "for i in range(0,tp):\n",
    "    t[i]=h*i  \n",
    "#--------------------Infectious period functions-----------------\n",
    "##laten distribution\n",
    "Faux=np.load(\"F.npy\")\n",
    "Gaux=np.load(\"Gaux.npy\") #1-G(t)\n",
    "Psi=np.load(\"Psi.npy\")\n",
    "Aaux=np.load(\"A.npy\")\n",
    "Waux=np.load(\"W.npy\")\n",
    "\n",
    "F=Faux[0:tp]   #Lauer20\n",
    "G=Gaux[0:tp]   #Lauer20\n",
    "psi=Psi[0:tp]  #Lauer #Ferr G3\n",
    "A=Aaux[0:n,:]\n",
    "W=Waux[0:tp]\n",
    "\n",
    "#print(tp)\n",
    "#print(t[-2:])\n",
    "#plt.plot(psi[0:200])"
   ]
  },
  {
   "cell_type": "code",
   "execution_count": 211,
   "metadata": {},
   "outputs": [],
   "source": [
    "#---------------------------Epidemic Global Variables---------------------------\n",
    "#---------------Initial values:SEIR    \n",
    "I0,E0,R0=100,0,0        \n",
    "\n",
    "#---History-function---H----\n",
    "H=np.zeros((n,m+1))\n",
    "for i in range(0,m+1):\n",
    "    H[0,i]=G[i]*I0\n",
    "for k in range(1,n):\n",
    "    for i in range(0,m+1):\n",
    "            H[k,i]=np.dot(Y[0:k],np.flip(A[0:k,i]))+G[k*m+i]*I0    \n",
    "    "
   ]
  },
  {
   "cell_type": "code",
   "execution_count": 212,
   "metadata": {},
   "outputs": [
    {
     "name": "stdout",
     "output_type": "stream",
     "text": [
      "Dimention of the Base-spline 38\n"
     ]
    }
   ],
   "source": [
    "#------------------------Base-spline interpolation----with partition (0,T)={0,xhi_1,...,xhi_q,T}\n",
    "ls=21                    #length between the k-nots \n",
    "q=int(n/ls)+1         \n",
    "vk=np.zeros(q)\n",
    "for i in range(1,q-1):\n",
    "    vk[i]=ls*i\n",
    "vk[q-1]=n\n",
    "#-------------------------------boundary-knots\n",
    "vk=np.append([-3*ls,-2*ls,-ls],vk)\n",
    "vk=np.append(vk,[n+ls,n+2*ls,n+3*ls])\n",
    "#--------------Wigths\n",
    "q=q+2  #base elements\n",
    "print('Dimention of the Base-spline',q)    \n",
    "#-------------------Bsplines functions: derivatives and gram matrix\n",
    "q0=8                  #number of monotonic base functions\n"
   ]
  },
  {
   "cell_type": "code",
   "execution_count": 213,
   "metadata": {},
   "outputs": [],
   "source": [
    "#---Muk----ls days constant period----estimation with 1-intergal\n",
    "def MuK(par): \n",
    "    mu,rho,V,hatI=np.zeros(n+1),np.ones(tp),np.zeros(tp),np.zeros(m+1)\n",
    "    mu[0]=I0\n",
    "    rho=np.exp(Pspline(t,vk,par,4,q0)) \n",
    "    V[0]=rho[0]*H[0,0]\n",
    "    for k in range(1,n+1):\n",
    "        for i in range(0,m+1):\n",
    "            v=np.multiply(rho[m*(k-1):m*(k-1)+i],hatI[0:i])\n",
    "            hatI[i]=h*(rho[m*(k-1)]*hatI[0]*psi[i]+2*np.dot(v[1:i],np.flip(psi[1:i])))/2+H[k-1,i] #hatI\n",
    "        V[m*(k-1)+1:k*m+1]=np.multiply(rho[m*(k-1)+1:m*k+1],hatI[1:m+1]) #open-left\n",
    "        mu[k]=h*(V[0]*W[k*m]+2*np.dot(V[1:m*k],np.flip(W[1:m*k]))+V[m*k]*W[0])/2    \n",
    "    return mu"
   ]
  },
  {
   "cell_type": "code",
   "execution_count": 214,
   "metadata": {},
   "outputs": [
    {
     "data": {
      "image/png": "[encoded data removed]",
      "text/plain": [
       "<Figure size 432x288 with 1 Axes>"
      ]
     },
     "metadata": {
      "needs_background": "light"
     },
     "output_type": "display_data"
    }
   ],
   "source": [
    "hI=np.zeros(tp)\n",
    "AuxI=psi*E0+G*I0\n",
    "for k in range(1,n+1):\n",
    "    for i in range(1,m+1):\n",
    "        sum1=0\n",
    "        for j in range(1,k):\n",
    "            sum1=sum1+(G[(k-j)*m+i]+G[(k-j-1)*m+i]+2*np.sum(G[(k-j-1)*m+i+1:(k-j)*m+i]))*Y[j-1]/(2*m)\n",
    "        hI[(k-1)*m+i]=sum1+Y[k-1]*(1+G[i]+2*np.sum(G[1:i]))/(2*m) \n",
    "hI=hI+AuxI\n",
    "plt.plot(t,hI)    \n",
    "\n",
    "#----matrix auxiliar\n",
    "B=np.zeros((m+1,m*(n-1)-1))\n",
    "for k in range(2,n+1):\n",
    "    for i in range(0,m+1): \n",
    "        B[i,0:m*(k-1)-1]=np.flip(psi[i+1:m*(k-1)+i])  \n"
   ]
  },
  {
   "cell_type": "code",
   "execution_count": 215,
   "metadata": {},
   "outputs": [],
   "source": [
    "def MuKOLD(par): \n",
    "    mu,Q,P=np.zeros(n+1),np.ones(tp),np.zeros(tp)\n",
    "    mu[0],P[0],a=hI[0],AuxI[0],np.zeros(m+1)\n",
    "    Q=np.exp(Pspline(t,vk,par,4,q0))\n",
    "    for i in range(1,m+1):\n",
    "        v=np.multiply(Q[1:i],P[1:i]) #element wise\n",
    "        P[i]=h*(Q[0]*P[0]*psi[i]+2*np.dot(v,np.flip(psi[1:i])))/2\n",
    "    mu[1]=h*(Q[0]*P[0]*W[m]+2*np.dot(v,np.flip(W[1:m])))/2\n",
    "    for k in range(2,n+1):\n",
    "        hv=np.multiply(Q[1:m*(k-1)],hI[1:m*(k-1)])\n",
    "        a=h*(np.dot(B[:,0:m*(k-1)-1],hv))+h*(Q[0]*hI[0]*psi[m*(k-1):m*k+1]+Q[m*(k-1)]*hI[m*(k-1)]*psi[0:m+1])/2\n",
    "        P[m*(k-1)]=AuxI[m*(k-1)]+a[0]\n",
    "        for i in range(1,m+1):\n",
    "            v=np.multiply(Q[m*(k-1)+1:m*(k-1)+i],P[m*(k-1)+1:m*(k-1)+i])\n",
    "            P[m*(k-1)+i]=h*(Q[m*(k-1)]*P[m*(k-1)]*psi[i]+2*np.dot(v,np.flip(psi[1:i])))/2+a[i]\n",
    "            if i==m: \n",
    "                mu[k]=h*(Q[m*(k-1)]*P[m*(k-1)]*W[m]+2*np.dot(v,np.flip(W[1:m])))/2+h*(Q[0]*hI[0]*W[k*m]+2*np.dot(hv,np.flip(W[m+1:m*k]))+Q[m*(k-1)]*hI[m*(k-1)]*W[m])/2 \n",
    "    return mu\n"
   ]
  },
  {
   "cell_type": "code",
   "execution_count": 216,
   "metadata": {
    "run_control": {
     "marked": false
    }
   },
   "outputs": [],
   "source": [
    "#iniPar =-1*np.random.rand(q+2)\n",
    "iniPar=-.5*np.ones(q+2)"
   ]
  },
  {
   "cell_type": "code",
   "execution_count": 217,
   "metadata": {},
   "outputs": [
    {
     "name": "stdout",
     "output_type": "stream",
     "text": [
      "0.22570388199892477\n",
      "00:00:00\n"
     ]
    }
   ],
   "source": [
    "timep=time.perf_counter()\n",
    "mukAux=MuK(iniPar)\n",
    "elapsed_time = time.perf_counter() - timep\n",
    "print(elapsed_time)\n",
    "print(time.strftime(\"%H:%M:%S\", time.gmtime(elapsed_time)))\n"
   ]
  },
  {
   "cell_type": "code",
   "execution_count": 218,
   "metadata": {},
   "outputs": [
    {
     "name": "stdout",
     "output_type": "stream",
     "text": [
      "4.688199987867847e-05\n",
      "00:00:00\n"
     ]
    }
   ],
   "source": [
    "#Faster\n",
    "timep=time.perf_counter()\n",
    "#muk=MuK(iniPar)\n",
    "elapsed_time = time.perf_counter() - timep\n",
    "print(elapsed_time)\n",
    "print(time.strftime(\"%H:%M:%S\", time.gmtime(elapsed_time)))\n"
   ]
  },
  {
   "cell_type": "code",
   "execution_count": 219,
   "metadata": {},
   "outputs": [
    {
     "name": "stdout",
     "output_type": "stream",
     "text": [
      "0.2897530580012244\n",
      "00:00:00\n"
     ]
    }
   ],
   "source": [
    "timep=time.perf_counter()\n",
    "mukOLD=MuKOLD(iniPar)\n",
    "elapsed_time = time.perf_counter() - timep\n",
    "print(elapsed_time)\n",
    "print(time.strftime(\"%H:%M:%S\", time.gmtime(elapsed_time)))\n"
   ]
  },
  {
   "cell_type": "code",
   "execution_count": 220,
   "metadata": {},
   "outputs": [
    {
     "data": {
      "text/plain": [
       "<matplotlib.legend.Legend at 0x7fb0a0b44d90>"
      ]
     },
     "execution_count": 220,
     "metadata": {},
     "output_type": "execute_result"
    },
    {
     "data": {
      "image/png": "[encoded data removed]",
      "text/plain": [
       "<Figure size 432x288 with 1 Axes>"
      ]
     },
     "metadata": {
      "needs_background": "light"
     },
     "output_type": "display_data"
    }
   ],
   "source": [
    "#plt.plot(Y,label='Y')\n",
    "plt.plot(muk,label='mu')\n",
    "plt.plot(mukAux,label='mu')\n",
    "plt.plot(mukOLD,label='old')\n",
    "\n",
    "plt.legend()\n"
   ]
  },
  {
   "cell_type": "code",
   "execution_count": 222,
   "metadata": {},
   "outputs": [
    {
     "data": {
      "text/plain": [
       "[<matplotlib.lines.Line2D at 0x7fb100652d90>]"
      ]
     },
     "execution_count": 222,
     "metadata": {},
     "output_type": "execute_result"
    },
    {
     "data": {
      "image/png": "[encoded data removed]",
      "text/plain": [
       "<Figure size 432x288 with 1 Axes>"
      ]
     },
     "metadata": {
      "needs_background": "light"
     },
     "output_type": "display_data"
    }
   ],
   "source": [
    "plt.plot(mukAux-muk,label='mu')\n"
   ]
  },
  {
   "cell_type": "code",
   "execution_count": null,
   "metadata": {},
   "outputs": [],
   "source": []
  }
 ],
 "metadata": {
  "kernelspec": {
   "display_name": "Python 3",
   "language": "python",
   "name": "python3"
  },
  "language_info": {
   "codemirror_mode": {
    "name": "ipython",
    "version": 3
   },
   "file_extension": ".py",
   "mimetype": "text/x-python",
   "name": "python",
   "nbconvert_exporter": "python",
   "pygments_lexer": "ipython3",
   "version": "3.7.4"
  },
  "varInspector": {
   "cols": {
    "lenName": 16,
    "lenType": 16,
    "lenVar": 40
   },
   "kernels_config": {
    "python": {
     "delete_cmd_postfix": "",
     "delete_cmd_prefix": "del ",
     "library": "var_list.py",
     "varRefreshCmd": "print(var_dic_list())"
    },
    "r": {
     "delete_cmd_postfix": ") ",
     "delete_cmd_prefix": "rm(",
     "library": "var_list.r",
     "varRefreshCmd": "cat(var_dic_list()) "
    }
   },
   "types_to_exclude": [
    "module",
    "function",
    "builtin_function_or_method",
    "instance",
    "_Feature"
   ],
   "window_display": false
  }
 },
 "nbformat": 4,
 "nbformat_minor": 4
}
