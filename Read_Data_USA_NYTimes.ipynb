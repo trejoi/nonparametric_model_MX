{
 "cells": [
  {
   "cell_type": "markdown",
   "metadata": {},
   "source": [
    "# Read Daily Incidence Cases For USA's states\n",
    "#Data from NYTime repositiory\n",
    "#Author: Imelda Trejo\n",
    "#Last update: Feb, 18, 2022"
   ]
  },
  {
   "cell_type": "code",
   "execution_count": 2,
   "metadata": {},
   "outputs": [],
   "source": [
    "# Import relevant modules\n",
    "import numpy as np\n",
    "import pandas as pd\n",
    "import matplotlib.pyplot as plt\n",
    "from numpy import asarray\n",
    "from numpy import savetxt\n",
    "import datetime\n"
   ]
  },
  {
   "cell_type": "code",
   "execution_count": 3,
   "metadata": {},
   "outputs": [],
   "source": [
    "#----Read data from NY-times newspaper repository\n",
    "#----reports started at diferent days from 2020\n",
    "#----reports started at diferent days from 2021\n",
    "baseURL=\"C:/Users/tui2/OneDrive - CDC/CDC_my_documments/Python_Codes_PLoS_One_revised_2021/data/utOrder.csv\"\n",
    "    \n",
    "myData=pd.read_csv(baseURL,skipinitialspace=True)\n",
    "#print(myData.head(10))\n",
    "\n",
    "#Stratify the data by key_plot (smaller resolution than wwtp)\n",
    "key_plot=np.array(myData.get(['key_plot'])).ravel()\n"
   ]
  },
  {
   "cell_type": "code",
   "execution_count": 54,
   "metadata": {},
   "outputs": [
    {
     "name": "stdout",
     "output_type": "stream",
     "text": [
      "total observed days: n= 760\n",
      "['Feb-09-22' 'Feb-10-22' 'Feb-11-22' 'Feb-12-22' 'Feb-13-22' 'Feb-14-22'\n",
      " 'Feb-15-22' 'Feb-16-22' 'Feb-17-22' 'Feb-18-22']\n",
      "760\n"
     ]
    }
   ],
   "source": []
  },
  {
   "cell_type": "code",
   "execution_count": 40,
   "metadata": {},
   "outputs": [],
   "source": [
    "def ReadDataUSA(ToSelect,n):\n",
    "    Y=np.zeros(n)\n",
    "    myNewData=myData.loc[myData[\"state\"]==ToSelect] #select state\n",
    "    Tinit=np.array(myNewData.get(['date'])).ravel()[0]\n",
    "    init=np.where(dateIndex==Tinit)[0][0]\n",
    "    Yaux=np.array(myNewData.get(['cases'])).ravel()\n",
    "    nn=len(Yaux)    #total observation for each states: nn<=n\n",
    "    Y[n-nn:]=Yaux   #start from the its reported cases\n",
    "    Y[1:n]=Y[1:n]-Y[0:n-1] \n",
    "    for k in range(0,n): #clean data\n",
    "        if Y[k]<0:\n",
    "            Y[k]=0       \n",
    "    return Y  "
   ]
  },
  {
   "cell_type": "code",
   "execution_count": 46,
   "metadata": {},
   "outputs": [
    {
     "data": {
      "image/png": "[encoded data removed]",
      "text/plain": [
       "<Figure size 1080x288 with 1 Axes>"
      ]
     },
     "metadata": {
      "needs_background": "light"
     },
     "output_type": "display_data"
    }
   ],
   "source": [
    "#---\"NM=0\", \"TX=1\",\"NY=2\", \"CA=3\", \"FL=4\", \"MI=5\"\n",
    "\n",
    "key=5\n",
    "name_state=['New Mexico','Texas','New York','California','Florida','Michigan'][key]\n",
    "id_state=['NM','TX','NY','CA','FL','MI','Lin','LinPsi1','LinPsi2','LinPsi3'][key]\n",
    "\n",
    "Yaux=ReadDataUSA(name_state,n)\n",
    "\n",
    "#----Test\n",
    "fig = plt.figure(figsize=(15,4))\n",
    "ax = plt.subplot(1,1,1)\n",
    "ax.plot(Yaux, marker='+', color ='b',label='Raw data')\n",
    "ax.set_title('%s'% id_state,fontsize=20)\n",
    "ax.set_xticks(range(0,n,15))\n",
    "ax.set_xticklabels(dateIndex[::15], rotation=90)\n",
    "ax.set_ylabel('New case count')\n",
    "plt.legend()\n",
    "\n",
    "#-------Save average data -----\n",
    "np.save(\"%sY.npy\" %name_state,Yaux)\n"
   ]
  },
  {
   "cell_type": "code",
   "execution_count": null,
   "metadata": {},
   "outputs": [],
   "source": [
    "#----------------Clean data\n",
    "#NY\n",
    "#m=np.argmax(Yaux[400:600])+400\n",
    "#Yaux[m]=(Yaux[m-1]+Yaux[m+2])/2\n",
    "\n",
    "#Texas\n",
    "#m=np.argmax(Yaux)\n",
    "#Yaux[m]=(Yaux[m-1]+Yaux[m+2])/2\n",
    "#m=np.argmax(Yaux[0:400])\n",
    "#Yaux[m]=(Yaux[m-1]+Yaux[m+2])/2\n",
    "#m=np.argmax(Yaux[0:500])\n",
    "#Yaux[m]=(Yaux[m-1]+Yaux[m+2])/2\n",
    "#m=np.argmax(Yaux)\n",
    "#Yaux[m]=(Yaux[m-1]+Yaux[m+2])/2\n",
    "\n",
    "\n",
    "#california \n",
    "#print(Yaux[400:])\n",
    "#m=np.argmax(Yaux[400:600])+400\n",
    "#Yaux[m]=(Yaux[m-1]+Yaux[m+2])/2\n",
    "#m=np.argmax(Yaux[400:600])+400\n",
    "#Yaux[m]=(Yaux[m-1]+Yaux[m+2])/2\n",
    "\n",
    "#florida errors\n",
    "#m=np.argmax(Yaux)\n",
    "#Yaux[m-2]=(Yaux[m-1]+Yaux[m+2])/2\n",
    "\n"
   ]
  }
 ],
 "metadata": {
  "kernelspec": {
   "display_name": "Python 3 (ipykernel)",
   "language": "python",
   "name": "python3"
  },
  "language_info": {
   "codemirror_mode": {
    "name": "ipython",
    "version": 3
   },
   "file_extension": ".py",
   "mimetype": "text/x-python",
   "name": "python",
   "nbconvert_exporter": "python",
   "pygments_lexer": "ipython3",
   "version": "3.9.13"
  }
 },
 "nbformat": 4,
 "nbformat_minor": 4
}
